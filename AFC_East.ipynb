{
 "cells": [
  {
   "metadata": {},
   "cell_type": "markdown",
   "source": "Import any Libraries as needed",
   "id": "faf0b42f7e7e5693"
  },
  {
   "cell_type": "code",
   "id": "initial_id",
   "metadata": {
    "collapsed": true,
    "ExecuteTime": {
     "end_time": "2024-10-08T18:20:04.609131Z",
     "start_time": "2024-10-08T18:20:04.309360Z"
    }
   },
   "source": [
    "import pandas as pd\n",
    "import numpy as np\n",
    "import requests\n",
    "import csv\n",
    "from bs4 import BeautifulSoup"
   ],
   "outputs": [],
   "execution_count": 1
  },
  {
   "metadata": {},
   "cell_type": "markdown",
   "source": "Hard-Code List of divisions (AFC East)",
   "id": "15c75c0cf072edc7"
  },
  {
   "metadata": {
    "ExecuteTime": {
     "end_time": "2024-10-08T18:20:05.932399Z",
     "start_time": "2024-10-08T18:20:05.929984Z"
    }
   },
   "cell_type": "code",
   "source": "AFC_East = ['buf', 'mia', 'ne', 'nyj']",
   "id": "a6df7c7cc4821a0b",
   "outputs": [],
   "execution_count": 2
  },
  {
   "metadata": {},
   "cell_type": "markdown",
   "source": "Use the requests library to send GET requests to the specified URL",
   "id": "1d6495aa852ab935"
  },
  {
   "metadata": {
    "ExecuteTime": {
     "end_time": "2024-10-08T18:23:43.155161Z",
     "start_time": "2024-10-08T18:23:41.964447Z"
    }
   },
   "cell_type": "code",
   "source": [
    "obj = {}\n",
    "for team in AFC_East:\n",
    "    url = f'https://www.espn.com/nfl/team/stats/_/name/{team}/season/2024/seasontype/2'\n",
    "    headers = {'User-Agent': 'Mozilla/5.0 (Windows NT 10.0; Win64; x64) AppleWebKit/537.36 (KHTML, like Gecko) Chrome/111.0.0.0 Safari/537.36'}\n",
    "    response = requests.get(url=url, headers=headers)\n",
    "    soup = BeautifulSoup(response.text, 'html.parser')\n",
    "    athlete_names = soup.find_all(class_='Athlete__PlayerName')\n",
    "    statistics = soup.find_all(class_='clr-gray-01 pr3 hs2')\n",
    "    city = soup.find(class_='db pr3 nowrap').text\n",
    "    team_name = soup.find(class_='db fw-bold').text\n",
    "    team_fullname = f\"{city} {team_name}\"\n",
    "    obj[team_fullname] = []\n",
    "    for athlete, statistic in zip(athlete_names, statistics):\n",
    "        athlete_name = athlete.text\n",
    "        specific_statistic = statistic.text\n",
    "        obj[team_fullname].append(f\"{specific_statistic}\")\n",
    "AFC_East_df = pd.DataFrame(data=obj, index=[\"Passing Yards Leader Statistic\", \"Rushing Yards Leader Statistic\", \"Receiving Yards Leader Statistic\", \"Tackles Statistic Statistic\", \"Interceptions Leader Statistic\"]).T\n",
    "csv_file = 'NFL_Data.csv'\n",
    "\n",
    "AFC_East_df.to_csv(csv_file, mode='a', index=True, header=False)\n"
   ],
   "id": "e6141a3869704465",
   "outputs": [],
   "execution_count": 10
  },
  {
   "metadata": {},
   "cell_type": "markdown",
   "source": "",
   "id": "8843ab6c5fd50221"
  }
 ],
 "metadata": {
  "kernelspec": {
   "display_name": "Python 3",
   "language": "python",
   "name": "python3"
  },
  "language_info": {
   "codemirror_mode": {
    "name": "ipython",
    "version": 2
   },
   "file_extension": ".py",
   "mimetype": "text/x-python",
   "name": "python",
   "nbconvert_exporter": "python",
   "pygments_lexer": "ipython2",
   "version": "2.7.6"
  }
 },
 "nbformat": 4,
 "nbformat_minor": 5
}
