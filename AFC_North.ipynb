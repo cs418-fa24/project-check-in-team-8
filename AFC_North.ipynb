{
 "cells": [
  {
   "metadata": {},
   "cell_type": "markdown",
   "source": "Import any needed libraries",
   "id": "63dfe36052c797d8"
  },
  {
   "cell_type": "code",
   "id": "initial_id",
   "metadata": {
    "collapsed": true,
    "ExecuteTime": {
     "end_time": "2024-10-08T18:11:05.933960Z",
     "start_time": "2024-10-08T18:11:05.569151Z"
    }
   },
   "source": [
    "import pandas as pd\n",
    "import numpy as np\n",
    "import requests\n",
    "import csv\n",
    "from bs4 import BeautifulSoup"
   ],
   "outputs": [],
   "execution_count": 2
  },
  {
   "metadata": {},
   "cell_type": "markdown",
   "source": "Hard-Code List of divisions",
   "id": "7f011ab08738e6df"
  },
  {
   "metadata": {
    "ExecuteTime": {
     "end_time": "2024-10-08T18:11:06.471989Z",
     "start_time": "2024-10-08T18:11:06.469808Z"
    }
   },
   "cell_type": "code",
   "source": "AFC_North = ['bal', 'cin', 'cle', 'pit']",
   "id": "8be04a843756ead1",
   "outputs": [],
   "execution_count": 3
  },
  {
   "metadata": {},
   "cell_type": "markdown",
   "source": "Use the requests library to send GET requests to the specified URL",
   "id": "93ddba4b3bb25165"
  },
  {
   "metadata": {},
   "cell_type": "markdown",
   "source": "",
   "id": "e90b581b451f5ab8"
  },
  {
   "metadata": {
    "ExecuteTime": {
     "end_time": "2024-10-08T18:12:11.785678Z",
     "start_time": "2024-10-08T18:12:10.051279Z"
    }
   },
   "cell_type": "code",
   "source": [
    "obj = {}\n",
    "for team in AFC_North:\n",
    "    url = f'https://www.espn.com/nfl/team/stats/_/name/{team}/season/2024/seasontype/2'\n",
    "    headers = {'User-Agent': 'Mozilla/5.0 (Windows NT 10.0; Win64; x64) AppleWebKit/537.36 (KHTML, like Gecko) Chrome/111.0.0.0 Safari/537.36'}\n",
    "    response = requests.get(url=url, headers=headers)\n",
    "    soup = BeautifulSoup(response.text, 'html.parser')\n",
    "    athlete_names = soup.find_all(class_='Athlete__PlayerName')\n",
    "    statistics = soup.find_all(class_='clr-gray-01 pr3 hs2')\n",
    "    city = soup.find(class_='db pr3 nowrap').text\n",
    "    team_name = soup.find(class_='db fw-bold').text\n",
    "    team_fullname = f\"{city} {team_name}\"\n",
    "    obj[team_fullname] = []\n",
    "    for athlete, statistic in zip(athlete_names, statistics):\n",
    "        athlete_name = athlete.text\n",
    "        specific_statistic = statistic.text\n",
    "        obj[team_fullname].append(f\"{specific_statistic}\")\n",
    "AFC_North_df = pd.DataFrame(data=obj, index=[\"Passing Yards Leader Statistic\", \"Rushing Yards Leader Statistic\", \"Receiving Yards Leader Statistic\", \"Tackles Statistic Statistic\", \"Interceptions Leader Statistic\"]).T\n",
    "csv_file = 'NFL_Data.csv'\n",
    "AFC_North_df.to_csv(csv_file, header=True, index=True, index_label=\"Team\")\n"
   ],
   "id": "e3c73b05b325e1a",
   "outputs": [],
   "execution_count": 6
  },
  {
   "metadata": {},
   "cell_type": "markdown",
   "source": "",
   "id": "d1f11f3bfbde554c"
  }
 ],
 "metadata": {
  "kernelspec": {
   "display_name": "Python 3",
   "language": "python",
   "name": "python3"
  },
  "language_info": {
   "codemirror_mode": {
    "name": "ipython",
    "version": 2
   },
   "file_extension": ".py",
   "mimetype": "text/x-python",
   "name": "python",
   "nbconvert_exporter": "python",
   "pygments_lexer": "ipython2",
   "version": "2.7.6"
  }
 },
 "nbformat": 4,
 "nbformat_minor": 5
}
