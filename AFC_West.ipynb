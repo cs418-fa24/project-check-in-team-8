{
 "cells": [
  {
   "cell_type": "code",
   "execution_count": 1,
   "metadata": {},
   "outputs": [],
   "source": [
    "import pandas as pd\n",
    "import numpy as np\n",
    "from bs4 import BeautifulSoup \n",
    "import requests\n",
    "import csv"
   ]
  },
  {
   "cell_type": "code",
   "execution_count": 2,
   "metadata": {},
   "outputs": [],
   "source": [
    "nfc_west_endpoints = ['den', 'kc', 'lv', 'lac' ]\n",
    "\n",
    "team_stats = []\n",
    "\n",
    "start_url = 'https://www.espn.com/nfl/team/stats/_/name/'\n",
    "headers = {\n",
    "    \"User-Agent\": \"Mozilla/5.0 (Windows NT 10.0; Win64; x64) AppleWebKit/537.36 (KHTML, like Gecko) Chrome/58.0.3029.110 Safari/537.36\"\n",
    "}\n",
    "team_names = []\n",
    "for team in nfc_west_endpoints:\n",
    "    url = f\"{start_url}{team}\"\n",
    "    x = requests.get(url=url, headers=headers)\n",
    "    soup = BeautifulSoup(x.content, 'html.parser')\n",
    "    \n",
    "    city_name = soup.find('span', class_='db pr3 nowrap').text\n",
    "    team_name = soup.find('span', class_='db fw-bold').text\n",
    "    full_name = f\"{city_name} {team_name}\"\n",
    "    \n",
    "    team_names.append(full_name)\n",
    "\n",
    "    # Adjust the class names or tag selections based on the actual HTML\n",
    "    stats = soup.find_all('div', class_='clr-gray-01 pr3 hs2')\n",
    "\n",
    "    stats_list = []\n",
    "    for stat in stats:\n",
    "        stats_list.append(stat.text.strip())\n",
    "    \n",
    "    if stats_list:\n",
    "        team_stats.append(stats_list)\n",
    "\n",
    "# Create DataFrame once the loop is complete\n",
    "df = pd.DataFrame(team_stats, index=team_names, columns=['Passing Yards', 'Rushing Yards', 'Receiving Yards', 'Tackles', 'Interceptions'])\n",
    "\n",
    "df.to_csv('NFL_Data.csv', mode='a', header=False, index=True)\n",
    "\n"
   ]
  },
  {
   "cell_type": "code",
   "execution_count": null,
   "metadata": {},
   "outputs": [],
   "source": []
  }
 ],
 "metadata": {
  "kernelspec": {
   "display_name": "Python 3",
   "language": "python",
   "name": "python3"
  },
  "language_info": {
   "codemirror_mode": {
    "name": "ipython",
    "version": 3
   },
   "file_extension": ".py",
   "mimetype": "text/x-python",
   "name": "python",
   "nbconvert_exporter": "python",
   "pygments_lexer": "ipython3",
   "version": "3.12.6"
  }
 },
 "nbformat": 4,
 "nbformat_minor": 2
}
