{
 "cells": [
  {
   "metadata": {},
   "cell_type": "markdown",
   "source": "Import any Needed Libraries",
   "id": "1e1b9e672776fd5f"
  },
  {
   "cell_type": "code",
   "id": "initial_id",
   "metadata": {
    "collapsed": true,
    "ExecuteTime": {
     "end_time": "2024-10-10T02:10:55.485785Z",
     "start_time": "2024-10-10T02:10:55.167978Z"
    }
   },
   "source": [
    "import pandas as pd\n",
    "import numpy as np\n",
    "import requests\n",
    "import csv\n",
    "from bs4 import BeautifulSoup"
   ],
   "outputs": [],
   "execution_count": 1
  },
  {
   "metadata": {},
   "cell_type": "markdown",
   "source": "NFC East Teams",
   "id": "23abfbf53b9c1e8b"
  },
  {
   "metadata": {
    "ExecuteTime": {
     "end_time": "2024-10-10T02:10:55.636905Z",
     "start_time": "2024-10-10T02:10:55.634935Z"
    }
   },
   "cell_type": "code",
   "source": "NFC_East = ['dal', 'phi', 'wsh', 'nyg']",
   "id": "7caf333f89577d2b",
   "outputs": [],
   "execution_count": 2
  },
  {
   "metadata": {},
   "cell_type": "markdown",
   "source": "",
   "id": "71996e75dc9e14fe"
  },
  {
   "metadata": {
    "ExecuteTime": {
     "end_time": "2024-10-10T02:10:59.292810Z",
     "start_time": "2024-10-10T02:10:57.085474Z"
    }
   },
   "cell_type": "code",
   "source": [
    "obj = {}\n",
    "for team in NFC_East:\n",
    "    url = f'https://www.espn.com/nfl/team/stats/_/name/{team}/season/2024/seasontype/2'\n",
    "    headers = {'User-Agent': 'Mozilla/5.0 (Windows NT 10.0; Win64; x64) AppleWebKit/537.36 (KHTML, like Gecko) Chrome/111.0.0.0 Safari/537.36'}\n",
    "    response = requests.get(url=url, headers=headers)\n",
    "    soup = BeautifulSoup(response.text, 'html.parser')\n",
    "    athlete_names = soup.find_all(class_='Athlete__PlayerName')\n",
    "    statistics = soup.find_all(class_='clr-gray-01 pr3 hs2')\n",
    "    city = soup.find(class_='db pr3 nowrap').text\n",
    "    team_name = soup.find(class_='db fw-bold').text\n",
    "    team_fullname = f\"{city} {team_name}\"\n",
    "    obj[team_fullname] = []\n",
    "    for athlete, statistic in zip(athlete_names, statistics):\n",
    "        athlete_name = athlete.text\n",
    "        specific_statistic = statistic.text\n",
    "        obj[team_fullname].append(f\"{specific_statistic}\")\n",
    "\n",
    "NFC_South_df = pd.DataFrame(data=obj, index=[\"Passing Yards Leader Statistic\", \"Rushing Yards Leader Statistic\", \"Receiving Yards Leader Statistic\", \"Tackles Leader Statistic\", \"Interceptions Leader Statistic\"]).T\n",
    "\n",
    "csv_file = 'NFL_Data.csv'\n",
    "\n",
    "NFC_South_df.to_csv(csv_file, mode='a', index=True, header=False)"
   ],
   "id": "dc5b14eaa5c8b9f8",
   "outputs": [],
   "execution_count": 3
  }
 ],
 "metadata": {
  "kernelspec": {
   "display_name": "Python 3",
   "language": "python",
   "name": "python3"
  },
  "language_info": {
   "codemirror_mode": {
    "name": "ipython",
    "version": 2
   },
   "file_extension": ".py",
   "mimetype": "text/x-python",
   "name": "python",
   "nbconvert_exporter": "python",
   "pygments_lexer": "ipython2",
   "version": "2.7.6"
  }
 },
 "nbformat": 4,
 "nbformat_minor": 5
}
