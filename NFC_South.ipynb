{
 "cells": [
  {
   "cell_type": "code",
   "execution_count": 2,
   "id": "b8f0ba3e-a813-4626-8a84-3a5005979392",
   "metadata": {},
   "outputs": [],
   "source": [
    "import pandas as pd\n",
    "import numpy as np\n",
    "import requests\n",
    "import csv\n",
    "from bs4 import BeautifulSoup"
   ]
  },
  {
   "cell_type": "markdown",
   "id": "6095267c-b229-4326-af61-97faed483dbc",
   "metadata": {},
   "source": [
    "NFC South Teams"
   ]
  },
  {
   "cell_type": "code",
   "execution_count": 5,
   "id": "b0653157-bb76-4e7b-8669-f3c57a21ae96",
   "metadata": {},
   "outputs": [],
   "source": [
    "NFC_South = ['atl', 'tb', 'no', 'car']"
   ]
  },
  {
   "cell_type": "code",
   "execution_count": 7,
   "id": "089b381e-ffa9-4b12-a043-cbc33fef53bf",
   "metadata": {},
   "outputs": [],
   "source": [
    "obj = {}\n",
    "for team in NFC_South:\n",
    "    url = f'https://www.espn.com/nfl/team/stats/_/name/{team}/season/2024/seasontype/2'\n",
    "    headers = {'User-Agent': 'Mozilla/5.0 (Windows NT 10.0; Win64; x64) AppleWebKit/537.36 (KHTML, like Gecko) Chrome/111.0.0.0 Safari/537.36'}\n",
    "    response = requests.get(url=url, headers=headers)\n",
    "    soup = BeautifulSoup(response.text, 'html.parser')\n",
    "    athlete_names = soup.find_all(class_='Athlete__PlayerName')\n",
    "    statistics = soup.find_all(class_='clr-gray-01 pr3 hs2')\n",
    "    city = soup.find(class_='db pr3 nowrap').text\n",
    "    team_name = soup.find(class_='db fw-bold').text\n",
    "    team_fullname = f\"{city} {team_name}\"\n",
    "    obj[team_fullname] = []\n",
    "    for athlete, statistic in zip(athlete_names, statistics):\n",
    "        athlete_name = athlete.text\n",
    "        specific_statistic = statistic.text\n",
    "        obj[team_fullname].append(f\"{specific_statistic}\")\n",
    "\n",
    "NFC_South_df = pd.DataFrame(data=obj, index=[\"Passing Yards Leader Statistic\", \"Rushing Yards Leader Statistic\", \"Receiving Yards Leader Statistic\", \"Tackles Leader Statistic\", \"Interceptions Leader Statistic\"]).T\n",
    "\n",
    "csv_file = 'NFL_Data.csv'\n",
    "\n",
    "NFC_South_df.to_csv(csv_file, mode='a', index=True, header=False)"
   ]
  },
  {
   "cell_type": "code",
   "execution_count": 8,
   "id": "f709b221-e7c3-4c92-969c-6e277c27891e",
   "metadata": {},
   "outputs": [
    {
     "data": {
      "text/html": [
       "<div>\n",
       "<style scoped>\n",
       "    .dataframe tbody tr th:only-of-type {\n",
       "        vertical-align: middle;\n",
       "    }\n",
       "\n",
       "    .dataframe tbody tr th {\n",
       "        vertical-align: top;\n",
       "    }\n",
       "\n",
       "    .dataframe thead th {\n",
       "        text-align: right;\n",
       "    }\n",
       "</style>\n",
       "<table border=\"1\" class=\"dataframe\">\n",
       "  <thead>\n",
       "    <tr style=\"text-align: right;\">\n",
       "      <th></th>\n",
       "      <th>Passing Yards Leader Statistic</th>\n",
       "      <th>Rushing Yards Leader Statistic</th>\n",
       "      <th>Receiving Yards Leader Statistic</th>\n",
       "      <th>Tackles Leader Statistic</th>\n",
       "      <th>Interceptions Leader Statistic</th>\n",
       "    </tr>\n",
       "  </thead>\n",
       "  <tbody>\n",
       "    <tr>\n",
       "      <th>Atlanta Falcons</th>\n",
       "      <td>1,373</td>\n",
       "      <td>285</td>\n",
       "      <td>354</td>\n",
       "      <td>44</td>\n",
       "      <td>1</td>\n",
       "    </tr>\n",
       "    <tr>\n",
       "      <th>Tampa Bay Buccaneers</th>\n",
       "      <td>1,164</td>\n",
       "      <td>247</td>\n",
       "      <td>386</td>\n",
       "      <td>42</td>\n",
       "      <td>1</td>\n",
       "    </tr>\n",
       "    <tr>\n",
       "      <th>New Orleans Saints</th>\n",
       "      <td>989</td>\n",
       "      <td>388</td>\n",
       "      <td>338</td>\n",
       "      <td>36</td>\n",
       "      <td>2</td>\n",
       "    </tr>\n",
       "    <tr>\n",
       "      <th>Carolina Panthers</th>\n",
       "      <td>675</td>\n",
       "      <td>393</td>\n",
       "      <td>262</td>\n",
       "      <td>35</td>\n",
       "      <td>1</td>\n",
       "    </tr>\n",
       "  </tbody>\n",
       "</table>\n",
       "</div>"
      ],
      "text/plain": [
       "                     Passing Yards Leader Statistic  \\\n",
       "Atlanta Falcons                               1,373   \n",
       "Tampa Bay Buccaneers                          1,164   \n",
       "New Orleans Saints                              989   \n",
       "Carolina Panthers                               675   \n",
       "\n",
       "                     Rushing Yards Leader Statistic  \\\n",
       "Atlanta Falcons                                 285   \n",
       "Tampa Bay Buccaneers                            247   \n",
       "New Orleans Saints                              388   \n",
       "Carolina Panthers                               393   \n",
       "\n",
       "                     Receiving Yards Leader Statistic  \\\n",
       "Atlanta Falcons                                   354   \n",
       "Tampa Bay Buccaneers                              386   \n",
       "New Orleans Saints                                338   \n",
       "Carolina Panthers                                 262   \n",
       "\n",
       "                     Tackles Leader Statistic Interceptions Leader Statistic  \n",
       "Atlanta Falcons                            44                              1  \n",
       "Tampa Bay Buccaneers                       42                              1  \n",
       "New Orleans Saints                         36                              2  \n",
       "Carolina Panthers                          35                              1  "
      ]
     },
     "execution_count": 8,
     "metadata": {},
     "output_type": "execute_result"
    }
   ],
   "source": [
    "NFC_South_df.head()"
   ]
  },
  {
   "cell_type": "code",
   "execution_count": null,
   "id": "615ba9a7-a861-41fd-952c-cc87dd7fc00e",
   "metadata": {},
   "outputs": [],
   "source": []
  }
 ],
 "metadata": {
  "kernelspec": {
   "display_name": "Python 3 (ipykernel)",
   "language": "python",
   "name": "python3"
  },
  "language_info": {
   "codemirror_mode": {
    "name": "ipython",
    "version": 3
   },
   "file_extension": ".py",
   "mimetype": "text/x-python",
   "name": "python",
   "nbconvert_exporter": "python",
   "pygments_lexer": "ipython3",
   "version": "3.12.4"
  }
 },
 "nbformat": 4,
 "nbformat_minor": 5
}
