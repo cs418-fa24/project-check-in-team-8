{
 "cells": [
  {
   "cell_type": "code",
   "execution_count": 1,
   "metadata": {},
   "outputs": [],
   "source": [
    "import pandas as pd\n",
    "import numpy as np\n",
    "import requests\n",
    "import csv\n",
    "from bs4 import BeautifulSoup\n"
   ]
  },
  {
   "cell_type": "code",
   "execution_count": 2,
   "metadata": {},
   "outputs": [],
   "source": [
    "NFC_West = ['ari', 'lar', 'sf', 'sea']"
   ]
  },
  {
   "cell_type": "code",
   "execution_count": 3,
   "metadata": {},
   "outputs": [],
   "source": [
    "obj = {}\n",
    "for team in NFC_West:\n",
    "    url = f'https://www.espn.com/nfl/team/stats/_/name/{team}/season/2024/seasontype/2'\n",
    "    headers = {'User-Agent': 'Mozilla/5.0 (Windows NT 10.0; Win64; x64) AppleWebKit/537.36 (KHTML, like Gecko) Chrome/111.0.0.0 Safari/537.36'}\n",
    "    response = requests.get(url=url, headers=headers)\n",
    "    soup = BeautifulSoup(response.text, 'html.parser')\n",
    "    athlete_names = soup.find_all(class_='Athlete__PlayerName')\n",
    "    statistics = soup.find_all(class_='clr-gray-01 pr3 hs2')\n",
    "    city = soup.find(class_='db pr3 nowrap').text\n",
    "    team_name = soup.find(class_='db fw-bold').text\n",
    "    team_fullname = f\"{city} {team_name}\"\n",
    "    obj[team_fullname] = []\n",
    "    for athlete, statistic in zip(athlete_names, statistics):\n",
    "        athlete_name = athlete.text\n",
    "        specific_statistic = statistic.text\n",
    "        obj[team_fullname].append(f\"{specific_statistic}\")\n",
    "NFC_West_df = pd.DataFrame(data=obj, index=[\"Passing Yards Leader Statistic\", \"Rushing Yards Leader Statistic\", \"Receiving Yards Leader Statistic\", \"Tackles Leader Statistic\", \"Interceptions Leader Statistic\"]).T\n",
    "csv_file = 'NFL_Data.csv'\n",
    "\n",
    "NFC_West_df.to_csv(csv_file, mode='a', index=True, header=False)\n"
   ]
  },
  {
   "cell_type": "code",
   "execution_count": null,
   "metadata": {},
   "outputs": [],
   "source": []
  }
 ],
 "metadata": {
  "kernelspec": {
   "display_name": "base",
   "language": "python",
   "name": "python3"
  },
  "language_info": {
   "codemirror_mode": {
    "name": "ipython",
    "version": 3
   },
   "file_extension": ".py",
   "mimetype": "text/x-python",
   "name": "python",
   "nbconvert_exporter": "python",
   "pygments_lexer": "ipython3",
   "version": "3.12.4"
  }
 },
 "nbformat": 4,
 "nbformat_minor": 2
}
