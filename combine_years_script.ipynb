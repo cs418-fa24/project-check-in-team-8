{
 "cells": [
  {
   "metadata": {
    "ExecuteTime": {
     "end_time": "2024-11-06T23:32:45.700218Z",
     "start_time": "2024-11-06T23:32:45.697060Z"
    }
   },
   "cell_type": "code",
   "source": [
    "import numpy as np\n",
    "import pandas as pd\n",
    "import requests\n",
    "from bs4 import BeautifulSoup\n",
    "import time   "
   ],
   "id": "4639dbc24637df32",
   "outputs": [],
   "execution_count": 6
  },
  {
   "cell_type": "code",
   "id": "initial_id",
   "metadata": {
    "collapsed": true,
    "ExecuteTime": {
     "end_time": "2024-11-06T23:32:46.866628Z",
     "start_time": "2024-11-06T23:32:46.839085Z"
    }
   },
   "source": [
    "_2015 = pd.read_csv(\"2015.csv\")\n",
    "_2016 = pd.read_csv(\"2016.csv\")\n",
    "_2017 = pd.read_csv(\"2017_data.csv\")\n",
    "_2018 = pd.read_csv(\"2018.csv\")\n",
    "_2019 = pd.read_csv(\"2019.csv\")\n",
    "_2020 = pd.read_csv(\"2020.csv\")\n",
    "_2021 = pd.read_csv(\"2021.csv\")\n",
    "\n",
    "master_df = pd.concat([_2015, _2016, _2017, _2018, _2019, _2020, _2021], ignore_index=True)\n",
    "\n",
    "master_df.to_csv(\"combined_qb_stats.csv\")"
   ],
   "outputs": [],
   "execution_count": 7
  }
 ],
 "metadata": {
  "kernelspec": {
   "display_name": "Python 3",
   "language": "python",
   "name": "python3"
  },
  "language_info": {
   "codemirror_mode": {
    "name": "ipython",
    "version": 2
   },
   "file_extension": ".py",
   "mimetype": "text/x-python",
   "name": "python",
   "nbconvert_exporter": "python",
   "pygments_lexer": "ipython2",
   "version": "2.7.6"
  }
 },
 "nbformat": 4,
 "nbformat_minor": 5
}
