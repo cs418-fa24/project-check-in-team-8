
{
 "cells": [
  {
   "cell_type": "markdown",
   "metadata": {},
   "source": [
    "# NFL QB Draft Analysis (2015-2021)\n",
    "### Analyzing quarterback performance by draft pick"
   ]
  },
  {
   "cell_type": "markdown",
   "metadata": {},
   "source": [
    "This notebook analyzes NFL quarterback data from 2015 to 2021. The goal is to observe how quarterback performance varies by draft pick. Key metrics like QBR, passing yards, touchdowns, and rushing performance are visualized and analyzed."
   ]
  },
  {
   "cell_type": "code",
   "execution_count": null,
   "metadata": {},
   "outputs": [],
   "source": [
    "import pandas as pd\n",
    "import matplotlib.pyplot as plt\n",
    "import seaborn as sns\n",
    "\n",
    "# Load datasets\n",
    "data_frames = []\n",
    "for year in range(2015, 2022):\n",
    "    file_name = f"{year}.csv"\n",
    "    df = pd.read_csv(file_name)\n",
    "    df['Year'] = year  # Add a year column for easy grouping\n",
    "    data_frames.append(df)\n",
    "\n",
    "# Concatenate all years into one DataFrame\n",
    "qbs_df = pd.concat(data_frames, ignore_index=True)\n",
    "\n",
    "# Inspect the data\n",
    "qbs_df.head()"
   ]
  },
  {
   "cell_type": "markdown",
   "metadata": {},
   "source": [
    "### Data Cleaning and Preparation\n",
    "Before we dive into visualization, let's clean the data to ensure consistent column formats across years."
   ]
  },
  {
   "cell_type": "code",
   "execution_count": null,
   "metadata": {},
   "outputs": [],
   "source": [
    "# Convert columns to numeric where appropriate and handle missing values\n",
    "qbs_df['Pass Completions'] = pd.to_numeric(qbs_df['Pass Completions'], errors='coerce')\n",
    "qbs_df['Passing Attempts'] = pd.to_numeric(qbs_df['Passing Attempts'], errors='coerce')\n",
    "qbs_df['Passing Yards'] = pd.to_numeric(qbs_df['Passing Yards'], errors='coerce')\n",
    "qbs_df['Passing Touchdowns'] = pd.to_numeric(qbs_df['Passing Touchdowns'], errors='coerce')\n",
    "qbs_df['Interceptions'] = pd.to_numeric(qbs_df['Interceptions'], errors='coerce')\n",
    "qbs_df['QBR'] = pd.to_numeric(qbs_df['QBR'], errors='coerce')\n",
    "qbs_df['Rushing Yards'] = pd.to_numeric(qbs_df['Rushing Yards'], errors='coerce')\n",
    "qbs_df['Rushing Touchdowns'] = pd.to_numeric(qbs_df['Rushing Touchdowns'], errors='coerce')\n",
    "\n",
    "# Drop rows with missing draft pick information\n",
    "qbs_df = qbs_df.dropna(subset=['Draft Pick'])\n",
    "\n",
    "qbs_df.head()"
   ]
  },
  {
   "cell_type": "markdown",
   "metadata": {},
   "source": [
    "## Visualization\n",
    "Let's explore quarterback success by draft pick, examining metrics like QBR, passing yards, and rushing yards to understand which picks yield the best results."
   ]
  },
  {
   "cell_type": "code",
   "execution_count": null,
   "metadata": {},
   "outputs": [],
   "source": [
    "# Aggregate data by draft pick\n",
    "draft_pick_stats = qbs_df.groupby('Draft Pick').mean().reset_index()\n",
    "\n",
    "# Plot QBR by Draft Pick\n",
    "plt.figure(figsize=(10, 6))\n",
    "sns.lineplot(data=draft_pick_stats, x='Draft Pick', y='QBR')\n",
    "plt.title('Average QBR by Draft Pick (2015-2021)')\n",
    "plt.xlabel('Draft Pick')\n",
    "plt.ylabel('Average QBR')\n",
    "plt.show()"
   ]
  },
  {
   "cell_type": "code",
   "execution_count": null,
   "metadata": {},
   "outputs": [],
   "source": [
    "# Plot Passing Yards by Draft Pick\n",
    "plt.figure(figsize=(10, 6))\n",
    "sns.lineplot(data=draft_pick_stats, x='Draft Pick', y='Passing Yards')\n",
    "plt.title('Average Passing Yards by Draft Pick (2015-2021)')\n",
    "plt.xlabel('Draft Pick')\n",
    "plt.ylabel('Average Passing Yards')\n",
    "plt.show()"
   ]
  },
  {
   "cell_type": "code",
   "execution_count": null,
   "metadata": {},
   "outputs": [],
   "source": [
    "# Plot Rushing Yards by Draft Pick\n",
    "plt.figure(figsize=(10, 6))\n",
    "sns.lineplot(data=draft_pick_stats, x='Draft Pick', y='Rushing Yards')\n",
    "plt.title('Average Rushing Yards by Draft Pick (2015-2021)')\n",
    "plt.xlabel('Draft Pick')\n",
    "plt.ylabel('Average Rushing Yards')\n",
    "plt.show()"
   ]
  },
  {
   "cell_type": "markdown",
   "metadata": {},
   "source": [
    "## Conclusion\n",
    "From these visualizations, we can see trends in quarterback success by draft pick. High draft picks tend to have stronger performances in key metrics, but there are also standout players from later picks who perform well. Further analysis could focus on individual player development over time."
   ]
  }
 ],
 "metadata": {
  "kernelspec": {
   "display_name": "Python 3",
   "language": "python",
   "name": "python3"
  },
  "language_info": {
   "codemirror_mode": {
    "name": "ipython",
    "version": 3
   },
   "file_extension": ".py",
   "mimetype": "text/x-python",
   "name": "python",
   "nbconvert_exporter": "python",
   "pygments_lexer": "ipython3",
   "version": "3.8"
  }
 },
 "nbformat": 4,
 "nbformat_minor": 2
}
