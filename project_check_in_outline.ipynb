{
 "cells": [
  {
   "cell_type": "markdown",
   "id": "2407f639",
   "metadata": {},
   "source": [
    "Progress report (5%) – due 11:59pm on November 7th\n",
    "The progress report is a chance for you to take stock of how far you have come and to reflect on whether or not you are comfortable with the substance or scope of your final project. The format of the progress report will be a Jupyter notebook that should be uploaded to the private github repository you have set up for your team. It should include:\n",
    "- Include a link to your github project repository located in the Github Classroom designated for this course. We will check whether your github repository is created in the classroom set up for the course and whether all team members have been added there.\n",
    "\n",
    "- Project introduction: an introduction that discusses the data you are analyzing, and the question or questions you are investigating.\n",
    "- Any changes: a discussion whether your scope has changed since the check-in proposal slides. What did you aim to do that you will not do and what have you added to the project?\n",
    "- Data cleaning: show clearly how you cleaned your data.\n",
    "- Exploratory data analysis: explain what your data looks like (words are fine, but visualizations are often better). Include any interesting issues or preliminary conclusions you have about your data.\n",
    "- At least one visualization that tests an interesting hypothesis, along with an explanation about why you thought this was an interesting hypothesis to investigate.\n",
    "- At least one ML analysis on your dataset, along with a baseline comparison and an interpretation of the result that you obtain.\n",
    "- Reflection: a discussion of the following:\n",
    "    - What is the hardest part of the project that you’ve encountered so far?\n",
    "    - What are your initial insights?\n",
    "    - Are there any concrete results you can show at this point? If not, why not?\n",
    "    - Going forward, what are the current biggest problems you’re facing?\n",
    "    - Do you think you are on track with your project? If not, what parts do you need to dedicate more time to?\n",
    "    - Given your initial exploration of the data, is it worth proceeding with your project, why? If not, how are you going to change your project and why do you think it’s better than your current results?\n",
    "- Roles/Coordination (important): Who will be responsible for specific portions of the project (at least two for each portion is recommended): e.g., finding data sources, cleaning, statistical analysis, visualization, machine learning applications, etc.? What deadlines should various components of the project be completed by?\n",
    "- Next steps: What you plan to accomplish in the next month and how you plan to evaluate whether your project achieved the goals you set for it.\n",
    "\n",
    "What you need to submit: A PDF of your Jupyter notebook to Gradescope which includes a link to the notebook located in your repository (the two notebooks should look the same).\n",
    "\n",
    "How this part will be graded: the amount of progress that has been made, clarity of exposition. There will be a grade assigned to the whole progress report that everyone receives, and a grade assigned to you individually based on your github code contributions.\n"
   ]
  },
  {
   "cell_type": "markdown",
   "id": "5fd6a021",
   "metadata": {},
   "source": [
    "Github Link: https://github.com/cs418-fa24/project-check-in-team-8 "
   ]
  },
  {
   "cell_type": "markdown",
   "id": "86e185e3",
   "metadata": {},
   "source": [
    "PROJECT INTRODUCTION(MANU): \n",
    "\n",
    "WRITE HERE"
   ]
  },
  {
   "cell_type": "markdown",
   "id": "7fad1e5d",
   "metadata": {},
   "source": [
    "ANY CHANGES(MANU): \n",
    "\n",
    "WRITE HERE"
   ]
  },
  {
   "cell_type": "markdown",
   "id": "727146b1",
   "metadata": {},
   "source": [
    "DATA CLEANING(GAGE): \n",
    "\n",
    "Since data was collected in a collaborative effort, most of the initial work that was required for further analysis consisted of combining the respective datasets into one CSV file, as well as cleaning the data itself. The column names of various initial files contained inconsistencies which had to be dealt with prior to combining (\"Pass Attempts\" vs \"Passing Attempts\", \"Cmp_Pct\" vs \"Completion Percentage\", etc). Once these files were combined, any potential null values were checked and amended to 0, or the appropriate value."
   ]
  },
  {
   "cell_type": "markdown",
   "id": "883bb779",
   "metadata": {},
   "source": [
    "EXPLORATORY DATA ANALYSIS(GAGE): \n",
    "\n",
    "WRITE HERE"
   ]
  },
  {
   "cell_type": "code",
   "execution_count": null,
   "id": "0f2d733e",
   "metadata": {},
   "outputs": [],
   "source": [
    "#ONE VISUALIZATOIN(VASU)\n",
    "\n",
    "#import any necessary libraries here\n",
    "\n",
    "#WRITE YOUR CODE HERE"
   ]
  },
  {
   "cell_type": "code",
   "id": "78f0133a",
   "metadata": {
    "ExecuteTime": {
     "end_time": "2024-11-07T21:38:34.589798Z",
     "start_time": "2024-11-07T21:38:31.425527Z"
    }
   },
   "source": [
    "#ML ANALYSIS(SHRINIKET AND CARLOS)\n",
    "\n",
    "import numpy as np\n",
    "import pandas as pd\n",
    "import matplotlib.pyplot as plt\n",
    "from mpl_toolkits import mplot3d\n",
    "from sklearn.linear_model import LinearRegression\n",
    "\n",
    "nfl_qb_stats = pd.read_csv('combinedQBStats.csv')\n",
    "X = nfl_qb_stats[\"Draft Pick\"]\n",
    "y = nfl_qb_stats[\"Passing Touchdowns\"]\n",
    "\n",
    "#WRITE YOUR CODE HERE"
   ],
   "outputs": [
    {
     "data": {
      "text/plain": [
       "   Unnamed: 0               Name  Draft Pick        Date Game Result (W/L)  \\\n",
       "0           0  Mitchell Trubisky           2  2017-10-09                 L   \n",
       "1           1  Mitchell Trubisky           2  2017-10-15                 W   \n",
       "2           2  Mitchell Trubisky           2  2017-10-22                 W   \n",
       "3           3  Mitchell Trubisky           2  2017-10-29                 L   \n",
       "4           4  Mitchell Trubisky           2  2017-11-12                 L   \n",
       "\n",
       "   Pass Completions  Passing Attempts  Passing Yards  Passing Touchdowns  \\\n",
       "0              12.0              25.0          128.0                 1.0   \n",
       "1               8.0              16.0          113.0                 1.0   \n",
       "2               4.0               7.0          107.0                 0.0   \n",
       "3              14.0              32.0          164.0                 0.0   \n",
       "4              21.0              35.0          297.0                 1.0   \n",
       "\n",
       "   Interceptions    QBR  Times Sacked  Rushing Attempts  Rushing Yards  \\\n",
       "0            1.0   60.1           1.0               3.0           22.0   \n",
       "1            0.0   94.0           4.0               4.0           32.0   \n",
       "2            0.0  101.8           4.0               5.0            3.0   \n",
       "3            1.0   46.9           2.0               3.0           53.0   \n",
       "4            0.0   97.0           5.0               0.0            0.0   \n",
       "\n",
       "   Rushing Touchdowns  Fumbles  \n",
       "0                 0.0      1.0  \n",
       "1                 0.0      2.0  \n",
       "2                 0.0      0.0  \n",
       "3                 0.0      0.0  \n",
       "4                 0.0      0.0  "
      ],
      "text/html": [
       "<div>\n",
       "<style scoped>\n",
       "    .dataframe tbody tr th:only-of-type {\n",
       "        vertical-align: middle;\n",
       "    }\n",
       "\n",
       "    .dataframe tbody tr th {\n",
       "        vertical-align: top;\n",
       "    }\n",
       "\n",
       "    .dataframe thead th {\n",
       "        text-align: right;\n",
       "    }\n",
       "</style>\n",
       "<table border=\"1\" class=\"dataframe\">\n",
       "  <thead>\n",
       "    <tr style=\"text-align: right;\">\n",
       "      <th></th>\n",
       "      <th>Unnamed: 0</th>\n",
       "      <th>Name</th>\n",
       "      <th>Draft Pick</th>\n",
       "      <th>Date</th>\n",
       "      <th>Game Result (W/L)</th>\n",
       "      <th>Pass Completions</th>\n",
       "      <th>Passing Attempts</th>\n",
       "      <th>Passing Yards</th>\n",
       "      <th>Passing Touchdowns</th>\n",
       "      <th>Interceptions</th>\n",
       "      <th>QBR</th>\n",
       "      <th>Times Sacked</th>\n",
       "      <th>Rushing Attempts</th>\n",
       "      <th>Rushing Yards</th>\n",
       "      <th>Rushing Touchdowns</th>\n",
       "      <th>Fumbles</th>\n",
       "    </tr>\n",
       "  </thead>\n",
       "  <tbody>\n",
       "    <tr>\n",
       "      <th>0</th>\n",
       "      <td>0</td>\n",
       "      <td>Mitchell Trubisky</td>\n",
       "      <td>2</td>\n",
       "      <td>2017-10-09</td>\n",
       "      <td>L</td>\n",
       "      <td>12.0</td>\n",
       "      <td>25.0</td>\n",
       "      <td>128.0</td>\n",
       "      <td>1.0</td>\n",
       "      <td>1.0</td>\n",
       "      <td>60.1</td>\n",
       "      <td>1.0</td>\n",
       "      <td>3.0</td>\n",
       "      <td>22.0</td>\n",
       "      <td>0.0</td>\n",
       "      <td>1.0</td>\n",
       "    </tr>\n",
       "    <tr>\n",
       "      <th>1</th>\n",
       "      <td>1</td>\n",
       "      <td>Mitchell Trubisky</td>\n",
       "      <td>2</td>\n",
       "      <td>2017-10-15</td>\n",
       "      <td>W</td>\n",
       "      <td>8.0</td>\n",
       "      <td>16.0</td>\n",
       "      <td>113.0</td>\n",
       "      <td>1.0</td>\n",
       "      <td>0.0</td>\n",
       "      <td>94.0</td>\n",
       "      <td>4.0</td>\n",
       "      <td>4.0</td>\n",
       "      <td>32.0</td>\n",
       "      <td>0.0</td>\n",
       "      <td>2.0</td>\n",
       "    </tr>\n",
       "    <tr>\n",
       "      <th>2</th>\n",
       "      <td>2</td>\n",
       "      <td>Mitchell Trubisky</td>\n",
       "      <td>2</td>\n",
       "      <td>2017-10-22</td>\n",
       "      <td>W</td>\n",
       "      <td>4.0</td>\n",
       "      <td>7.0</td>\n",
       "      <td>107.0</td>\n",
       "      <td>0.0</td>\n",
       "      <td>0.0</td>\n",
       "      <td>101.8</td>\n",
       "      <td>4.0</td>\n",
       "      <td>5.0</td>\n",
       "      <td>3.0</td>\n",
       "      <td>0.0</td>\n",
       "      <td>0.0</td>\n",
       "    </tr>\n",
       "    <tr>\n",
       "      <th>3</th>\n",
       "      <td>3</td>\n",
       "      <td>Mitchell Trubisky</td>\n",
       "      <td>2</td>\n",
       "      <td>2017-10-29</td>\n",
       "      <td>L</td>\n",
       "      <td>14.0</td>\n",
       "      <td>32.0</td>\n",
       "      <td>164.0</td>\n",
       "      <td>0.0</td>\n",
       "      <td>1.0</td>\n",
       "      <td>46.9</td>\n",
       "      <td>2.0</td>\n",
       "      <td>3.0</td>\n",
       "      <td>53.0</td>\n",
       "      <td>0.0</td>\n",
       "      <td>0.0</td>\n",
       "    </tr>\n",
       "    <tr>\n",
       "      <th>4</th>\n",
       "      <td>4</td>\n",
       "      <td>Mitchell Trubisky</td>\n",
       "      <td>2</td>\n",
       "      <td>2017-11-12</td>\n",
       "      <td>L</td>\n",
       "      <td>21.0</td>\n",
       "      <td>35.0</td>\n",
       "      <td>297.0</td>\n",
       "      <td>1.0</td>\n",
       "      <td>0.0</td>\n",
       "      <td>97.0</td>\n",
       "      <td>5.0</td>\n",
       "      <td>0.0</td>\n",
       "      <td>0.0</td>\n",
       "      <td>0.0</td>\n",
       "      <td>0.0</td>\n",
       "    </tr>\n",
       "  </tbody>\n",
       "</table>\n",
       "</div>"
      ]
     },
     "execution_count": 1,
     "metadata": {},
     "output_type": "execute_result"
    }
   ],
   "execution_count": 1
  },
  {
   "cell_type": "markdown",
   "id": "d08e9103",
   "metadata": {},
   "source": [
    "REFLECTION(YUGESH AND ZEESHAN): \n",
    "\n",
    "WRITE HERE"
   ]
  },
  {
   "cell_type": "markdown",
   "id": "e4d198f8",
   "metadata": {},
   "source": [
    "ROLES/COORDINATION(VASU): \n",
    "\n",
    "WRITE HERE"
   ]
  },
  {
   "cell_type": "markdown",
   "id": "fca77bce",
   "metadata": {},
   "source": [
    "NEXT STEPS(YUGESH AND ZEESHAN):\n",
    "\n",
    "WRITE HERE"
   ]
  }
 ],
 "metadata": {
  "kernelspec": {
   "display_name": "Python 3",
   "language": "python",
   "name": "python3"
  },
  "language_info": {
   "codemirror_mode": {
    "name": "ipython",
    "version": 2
   },
   "file_extension": ".py",
   "mimetype": "text/x-python",
   "name": "python",
   "nbconvert_exporter": "python",
   "pygments_lexer": "ipython2",
   "version": "2.7.6"
  }
 },
 "nbformat": 4,
 "nbformat_minor": 5
}
