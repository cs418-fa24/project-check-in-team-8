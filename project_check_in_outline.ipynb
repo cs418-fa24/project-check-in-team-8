{
 "cells": [
  {
   "cell_type": "markdown",
   "id": "2407f639",
   "metadata": {},
   "source": [
    "Progress report (5%) – due 11:59pm on November 7th\n",
    "The progress report is a chance for you to take stock of how far you have come and to reflect on whether or not you are comfortable with the substance or scope of your final project. The format of the progress report will be a Jupyter notebook that should be uploaded to the private github repository you have set up for your team. It should include:\n",
    "- Include a link to your github project repository located in the Github Classroom designated for this course. We will check whether your github repository is created in the classroom set up for the course and whether all team members have been added there.\n",
    "\n",
    "- Project introduction: an introduction that discusses the data you are analyzing, and the question or questions you are investigating.\n",
    "- Any changes: a discussion whether your scope has changed since the check-in proposal slides. What did you aim to do that you will not do and what have you added to the project?\n",
    "- Data cleaning: show clearly how you cleaned your data.\n",
    "- Exploratory data analysis: explain what your data looks like (words are fine, but visualizations are often better). Include any interesting issues or preliminary conclusions you have about your data.\n",
    "- At least one visualization that tests an interesting hypothesis, along with an explanation about why you thought this was an interesting hypothesis to investigate.\n",
    "- At least one ML analysis on your dataset, along with a baseline comparison and an interpretation of the result that you obtain.\n",
    "- Reflection: a discussion of the following:\n",
    "    - What is the hardest part of the project that you’ve encountered so far?\n",
    "    - What are your initial insights?\n",
    "    - Are there any concrete results you can show at this point? If not, why not?\n",
    "    - Going forward, what are the current biggest problems you’re facing?\n",
    "    - Do you think you are on track with your project? If not, what parts do you need to dedicate more time to?\n",
    "    - Given your initial exploration of the data, is it worth proceeding with your project, why? If not, how are you going to change your project and why do you think it’s better than your current results?\n",
    "- Roles/Coordination (important): Who will be responsible for specific portions of the project (at least two for each portion is recommended): e.g., finding data sources, cleaning, statistical analysis, visualization, machine learning applications, etc.? What deadlines should various components of the project be completed by?\n",
    "- Next steps: What you plan to accomplish in the next month and how you plan to evaluate whether your project achieved the goals you set for it.\n",
    "\n",
    "What you need to submit: A PDF of your Jupyter notebook to Gradescope which includes a link to the notebook located in your repository (the two notebooks should look the same).\n",
    "\n",
    "How this part will be graded: the amount of progress that has been made, clarity of exposition. There will be a grade assigned to the whole progress report that everyone receives, and a grade assigned to you individually based on your github code contributions.\n"
   ]
  },
  {
   "cell_type": "markdown",
   "id": "5fd6a021",
   "metadata": {},
   "source": [
    "Github Link: https://github.com/cs418-fa24/project-check-in-team-8 "
   ]
  },
  {
   "cell_type": "markdown",
   "id": "86e185e3",
   "metadata": {},
   "source": [
    "PROJECT INTRODUCTION(MANU): \n",
    "\n",
    "Our project centers around analyzing NFL data from the 2024 season to uncover predictive indicators for Super Bowl success. By utilizing machine learning models, we aim to determine which team statistics correlate most strongly with playoff wins. Specifically, we’re investigating offensive stats like Passing Yards, Rushing Yards, and Receiving Yards, alongside defensive metrics such as Tackles and Interceptions, and team performance in terms of wins. This data is collected from ESPN using web scraping tools, then organized in a pandas DataFrame and exported to a CSV file for further analysis. Additionally, we’re delving into draft pick histories to evaluate the performance of quarterbacks based on their draft position, comparing higher and lower picks, and examining if backup quarterbacks outperform starters in the long run."
   ]
  },
  {
   "cell_type": "markdown",
   "id": "7fad1e5d",
   "metadata": {},
   "source": [
    "ANY CHANGES(MANU): \n",
    "\n",
    "Since our initial proposal, we’ve refined the project scope to focus more narrowly on key offensive and defensive stats, instead of incorporating a wider array of advanced metrics. After discussing with our professor, we agreed to focus on six main statistics to ensure clarity in our analysis and predictive models. We’ve also added a historical comparison of quarterback draft picks, specifically those from 2015 to 2021, to explore if lower-drafted quarterbacks outperform higher picks over time and if backup quarterbacks show better performance metrics than starters. By narrowing our scope and adding these focused research questions, we aim to produce a robust and targeted analysis of what it takes to build a Super Bowl-winning team."
   ]
  },
  {
   "cell_type": "markdown",
   "id": "727146b1",
   "metadata": {},
   "source": [
    "DATA CLEANING(GAGE): \n",
    "\n",
    "Since data was collected in a collaborative effort, most of the initial work that was required for further analysis consisted of combining the respective datasets into one CSV file, as well as cleaning the data itself. The column names of various initial files contained inconsistencies which had to be dealt with prior to combining (\"Pass Attempts\" vs \"Passing Attempts\", \"Cmp_Pct\" vs \"Completion Percentage\", etc). Once these files were combined, any potential null values were checked and amended to 0, or the appropriate value."
   ]
  },
  {
   "cell_type": "markdown",
   "id": "883bb779",
   "metadata": {},
   "source": [
    "EXPLORATORY DATA ANALYSIS(GAGE): \n",
    "\n",
    "WRITE HERE"
   ]
  },
  {
   "cell_type": "code",
   "execution_count": null,
   "id": "0f2d733e",
   "metadata": {},
   "outputs": [],
   "source": [
    "#ONE VISUALIZATOIN(VASU)\n",
    "\n",
    "#import any necessary libraries here\n",
    "\n",
    "#WRITE YOUR CODE HERE"
   ]
  },
  {
   "cell_type": "code",
   "execution_count": null,
   "id": "78f0133a",
   "metadata": {},
   "outputs": [],
   "source": [
    "#ML ANALYSIS(SHRINIKET AND CARLOS)\n",
    "\n",
    "#import any necessary libraries here\n",
    "\n",
    "#WRITE YOUR CODE HERE"
   ]
  },
  {
   "cell_type": "markdown",
   "id": "d08e9103",
   "metadata": {},
   "source": [
    "REFLECTION(YUGESH AND ZEESHAN): \n",
    "\n",
    "WRITE HERE"
   ]
  },
  {
   "cell_type": "markdown",
   "id": "e4d198f8",
   "metadata": {},
   "source": [
    "ROLES/COORDINATION(VASU): \n",
    "\n",
    "WRITE HERE"
   ]
  },
  {
   "cell_type": "markdown",
   "id": "fca77bce",
   "metadata": {},
   "source": [
    "NEXT STEPS(YUGESH AND ZEESHAN):\n",
    "\n",
    "WRITE HERE"
   ]
  }
 ],
 "metadata": {
  "kernelspec": {
   "display_name": "Python 3",
   "language": "python",
   "name": "python3"
  },
  "language_info": {
   "codemirror_mode": {
    "name": "ipython",
    "version": 2
   },
   "file_extension": ".py",
   "mimetype": "text/x-python",
   "name": "python",
   "nbconvert_exporter": "python",
   "pygments_lexer": "ipython2",
   "version": "2.7.6"
  }
 },
 "nbformat": 4,
 "nbformat_minor": 5
}
